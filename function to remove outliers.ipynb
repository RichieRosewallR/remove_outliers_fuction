{
 "cells": [
  {
   "cell_type": "code",
   "execution_count": 1,
   "id": "44f88edb",
   "metadata": {},
   "outputs": [],
   "source": [
    "import numpy as np\n",
    "import matplotlib.pyplot as plt\n",
    "%matplotlib inline"
   ]
  },
  {
   "cell_type": "code",
   "execution_count": 2,
   "id": "63533053",
   "metadata": {},
   "outputs": [],
   "source": [
    "dataset = [10,11,12,14,12,15,14,14,15,102,12,14,17,19,107,10,13,12,14,13,108,12,11,14,13,15,10,15,12,10,14,13,15,10]"
   ]
  },
  {
   "cell_type": "code",
   "execution_count": 3,
   "id": "588f2767",
   "metadata": {},
   "outputs": [
    {
     "data": {
      "text/plain": [
       "(array([31.,  0.,  0.,  0.,  0.,  0.,  0.,  0.,  0.,  3.]),\n",
       " array([ 10. ,  19.8,  29.6,  39.4,  49.2,  59. ,  68.8,  78.6,  88.4,\n",
       "         98.2, 108. ]),\n",
       " <BarContainer object of 10 artists>)"
      ]
     },
     "execution_count": 3,
     "metadata": {},
     "output_type": "execute_result"
    },
    {
     "data": {
      "image/png": "[encoded data removed]",
      "text/plain": [
       "<Figure size 432x288 with 1 Axes>"
      ]
     },
     "metadata": {
      "needs_background": "light"
     },
     "output_type": "display_data"
    }
   ],
   "source": [
    "plt.hist(dataset)"
   ]
  },
  {
   "cell_type": "code",
   "execution_count": 4,
   "id": "e22fcef6",
   "metadata": {},
   "outputs": [],
   "source": [
    "outliers =[]\n",
    "\n",
    "def detect_outliers(data):\n",
    "    threshold = 3 #3std deviation from mean\n",
    "    mean=np.mean(data)\n",
    "    std=np.std(data)\n",
    "    \n",
    "    for i in data:\n",
    "        z_score = (i-mean)/std\n",
    "        if np.abs(z_score)>threshold:\n",
    "            outliers.append(i)\n",
    "    return outliers"
   ]
  },
  {
   "cell_type": "code",
   "execution_count": 5,
   "id": "8f622347",
   "metadata": {},
   "outputs": [
    {
     "data": {
      "text/plain": [
       "[102, 107, 108]"
      ]
     },
     "execution_count": 5,
     "metadata": {},
     "output_type": "execute_result"
    }
   ],
   "source": [
    "detect_outliers(dataset)"
   ]
  },
  {
   "cell_type": "markdown",
   "id": "3bd9f440",
   "metadata": {},
   "source": [
    "IQR\n",
    "\n",
    "1. sort the data\n",
    "2. calculate Q1 and Q3\n",
    "3. IQR(Q3-Q1)\n",
    "4. find the lower fence (Q1- 1.5(IQR))\n",
    "5. find the higher fence (Q3 + 1.5(IQR))"
   ]
  },
  {
   "cell_type": "code",
   "execution_count": 6,
   "id": "1e6561f2",
   "metadata": {},
   "outputs": [],
   "source": [
    "# dataset = sorted(dataset)\n",
    "# dataset"
   ]
  },
  {
   "cell_type": "code",
   "execution_count": 7,
   "id": "e72be30d",
   "metadata": {},
   "outputs": [],
   "source": [
    "# q1, q3 = np.percentile(dataset, [25,75])"
   ]
  },
  {
   "cell_type": "code",
   "execution_count": 8,
   "id": "c909b270",
   "metadata": {},
   "outputs": [],
   "source": [
    "# print(q1, q3)"
   ]
  },
  {
   "cell_type": "code",
   "execution_count": 9,
   "id": "8db5d47a",
   "metadata": {},
   "outputs": [],
   "source": [
    "# IQR = q3-q1\n",
    "# IQR"
   ]
  },
  {
   "cell_type": "code",
   "execution_count": 10,
   "id": "c35335ba",
   "metadata": {},
   "outputs": [],
   "source": [
    "# lower_fence = (q1 - (1.5*IQR))\n",
    "# higher_fence = (q3 + (1.5*IQR))\n",
    "# print(lower_fence, higher_fence)"
   ]
  },
  {
   "cell_type": "code",
   "execution_count": 11,
   "id": "28d2153b",
   "metadata": {},
   "outputs": [],
   "source": [
    "# dataset = [10,11,12,14,12,15,14,14,15,102,12,14,17,19,105,10,13,12,14,13,108,12,11,14,13,15,10,15,12,10,14,13,15,10]"
   ]
  },
  {
   "cell_type": "code",
   "execution_count": 12,
   "id": "51ba5314",
   "metadata": {},
   "outputs": [],
   "source": [
    "def remove_outliers(data):\n",
    "    data = sorted(data)\n",
    "    q1, q3 = np.percentile(data, [25,75])\n",
    "    IQR = q3-q1\n",
    "    lower_fence = (q1 - (1.5*IQR))\n",
    "    higher_fence = (q3 + (1.5*IQR))\n",
    "    for i in data:\n",
    "        if (i<lower_fence) or (i>higher_fence):\n",
    "            data.remove(i)\n",
    "    for j in data: #for verification I used second loop\n",
    "        if (j<lower_fence) or (j>higher_fence):\n",
    "            data.remove(j)\n",
    "    return data"
   ]
  },
  {
   "cell_type": "code",
   "execution_count": 13,
   "id": "294d2b8f",
   "metadata": {},
   "outputs": [],
   "source": [
    "dataset = remove_outliers(dataset)"
   ]
  },
  {
   "cell_type": "code",
   "execution_count": 14,
   "id": "3bd3720d",
   "metadata": {},
   "outputs": [
    {
     "data": {
      "text/plain": [
       "[10,\n",
       " 10,\n",
       " 10,\n",
       " 10,\n",
       " 10,\n",
       " 11,\n",
       " 11,\n",
       " 12,\n",
       " 12,\n",
       " 12,\n",
       " 12,\n",
       " 12,\n",
       " 12,\n",
       " 13,\n",
       " 13,\n",
       " 13,\n",
       " 13,\n",
       " 14,\n",
       " 14,\n",
       " 14,\n",
       " 14,\n",
       " 14,\n",
       " 14,\n",
       " 14,\n",
       " 15,\n",
       " 15,\n",
       " 15,\n",
       " 15,\n",
       " 15,\n",
       " 17,\n",
       " 19]"
      ]
     },
     "execution_count": 14,
     "metadata": {},
     "output_type": "execute_result"
    }
   ],
   "source": [
    "dataset"
   ]
  },
  {
   "cell_type": "code",
   "execution_count": null,
   "id": "e1455ce3",
   "metadata": {},
   "outputs": [],
   "source": []
  }
 ],
 "metadata": {
  "kernelspec": {
   "display_name": "Python 3 (ipykernel)",
   "language": "python",
   "name": "python3"
  },
  "language_info": {
   "codemirror_mode": {
    "name": "ipython",
    "version": 3
   },
   "file_extension": ".py",
   "mimetype": "text/x-python",
   "name": "python",
   "nbconvert_exporter": "python",
   "pygments_lexer": "ipython3",
   "version": "3.9.7"
  }
 },
 "nbformat": 4,
 "nbformat_minor": 5
}
